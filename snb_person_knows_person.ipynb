{
 "cells": [
  {
   "cell_type": "code",
   "execution_count": 17,
   "metadata": {
    "collapsed": true
   },
   "outputs": [],
   "source": [
    "import pandas as pd\n",
    "import warnings\n",
    "import os\n",
    "warnings.filterwarnings(\"ignore\")\n",
    "\n",
    "all_sf = ['sf0.1', 'sf1', 'sf3', 'sf10', 'sf30'] #\n",
    "fractions = [0.1, 0.2, 0.3, 0.4, 0.5, 0.6, 0.7, 0.8, 0.9, 1]\n"
   ]
  },
  {
   "cell_type": "code",
   "execution_count": 18,
   "outputs": [
    {
     "name": "stdout",
     "output_type": "stream",
     "text": [
      "Starting sf0.1\n",
      "Starting 0.1\n",
      "Starting 0.2\n",
      "Starting 0.3\n",
      "Starting 0.4\n",
      "Starting 0.5\n",
      "Starting 0.6\n",
      "Starting 0.7\n",
      "Starting 0.8\n",
      "Starting 0.9\n",
      "Starting 1\n",
      "Starting sf1\n",
      "Starting 0.1\n",
      "Starting 0.2\n",
      "Starting 0.3\n",
      "Starting 0.4\n",
      "Starting 0.5\n",
      "Starting 0.6\n",
      "Starting 0.7\n",
      "Starting 0.8\n",
      "Starting 0.9\n",
      "Starting 1\n",
      "Starting sf3\n",
      "Starting 0.1\n",
      "Starting 0.2\n",
      "Starting 0.3\n",
      "Starting 0.4\n",
      "Starting 0.5\n",
      "Starting 0.6\n",
      "Starting 0.7\n",
      "Starting 0.8\n",
      "Starting 0.9\n",
      "Starting 1\n",
      "Starting sf10\n",
      "Starting 0.1\n",
      "Starting 0.2\n",
      "Starting 0.3\n",
      "Starting 0.4\n",
      "Starting 0.5\n",
      "Starting 0.6\n",
      "Starting 0.7\n",
      "Starting 0.8\n",
      "Starting 0.9\n",
      "Starting 1\n",
      "Starting sf30\n",
      "Starting 0.1\n",
      "Starting 0.2\n",
      "Starting 0.3\n",
      "Starting 0.4\n",
      "Starting 0.5\n",
      "Starting 0.6\n",
      "Starting 0.7\n",
      "Starting 0.8\n",
      "Starting 0.9\n",
      "Starting 1\n"
     ]
    }
   ],
   "source": [
    "for sf in all_sf:\n",
    "    print(f\"Starting {sf}\")\n",
    "    for fraction in fractions:\n",
    "        print(f\"Starting {fraction}\")\n",
    "        df = pd.read_csv(f'/home/daniel/Documents/Programming/duckdb-pgq/data/csv/{sf}/Person_knows_Person.csv', delimiter='|')\n",
    "\n",
    "        df.rename(columns={':START_ID(Person)':'source',':END_ID(Person)':'target'}, inplace=True)\n",
    "        running_sum = 0\n",
    "        running_length = 0\n",
    "        df_grouped = df.groupby('source')\n",
    "        df_trimmed = pd.DataFrame(columns=['source', 'target'])\n",
    "\n",
    "        for name, group in df_grouped:\n",
    "            # Change this for the number of connections\n",
    "            if fraction != 1:\n",
    "                num_of_knows = int(len(group) * fraction)\n",
    "                trimmed = group.sample(num_of_knows, replace=True).drop_duplicates()\n",
    "                running_sum += num_of_knows\n",
    "            else:\n",
    "                trimmed = group\n",
    "                running_sum += len(group)\n",
    "            running_length += 1\n",
    "            # if file does not exist write header\n",
    "            if not os.path.isfile(f\"input_files/person_knows_person_trimmed_{sf}_{fraction}.csv\"):\n",
    "               trimmed.to_csv(f\"input_files/person_knows_person_trimmed_{sf}_{fraction}.csv\", header=True, index=False)\n",
    "            else: # else it exists so append without writing the header\n",
    "               trimmed.to_csv(f\"input_files/person_knows_person_trimmed_{sf}_{fraction}.csv\", mode='a', header=False, index=False)\n",
    "\n",
    "        final_df = pd.read_csv(f\"input_files/person_knows_person_trimmed_{sf}_{fraction}.csv\")\n",
    "        os.remove(f\"input_files/person_knows_person_trimmed_{sf}_{fraction}.csv\")\n",
    "        final_df.to_csv(f\"input_files/person_knows_person_trimmed_{sf}_{fraction}_{int(round(running_sum/running_length))}.csv\", index=False)\n"
   ],
   "metadata": {
    "collapsed": false,
    "pycharm": {
     "name": "#%%\n"
    }
   }
  }
 ],
 "metadata": {
  "kernelspec": {
   "display_name": "Python 3",
   "language": "python",
   "name": "python3"
  },
  "language_info": {
   "codemirror_mode": {
    "name": "ipython",
    "version": 2
   },
   "file_extension": ".py",
   "mimetype": "text/x-python",
   "name": "python",
   "nbconvert_exporter": "python",
   "pygments_lexer": "ipython2",
   "version": "2.7.6"
  }
 },
 "nbformat": 4,
 "nbformat_minor": 0
}