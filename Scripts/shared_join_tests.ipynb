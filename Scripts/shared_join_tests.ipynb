{
 "cells": [
  {
   "cell_type": "code",
   "execution_count": 3,
   "metadata": {
    "collapsed": true,
    "pycharm": {
     "name": "#%%\n"
    }
   },
   "outputs": [],
   "source": [
    "import json"
   ]
  },
  {
   "cell_type": "code",
   "execution_count": 18,
   "outputs": [],
   "source": [
    "f = open('test_output.json')\n",
    "query_output = json.load(f)"
   ],
   "metadata": {
    "collapsed": false,
    "pycharm": {
     "name": "#%%\n"
    }
   }
  },
  {
   "cell_type": "code",
   "execution_count": 19,
   "outputs": [],
   "source": [
    "query_total_time = query_output['timing']"
   ],
   "metadata": {
    "collapsed": false,
    "pycharm": {
     "name": "#%%\n"
    }
   }
  },
  {
   "cell_type": "code",
   "execution_count": 30,
   "outputs": [
    {
     "name": "stdout",
     "output_type": "stream",
     "text": [
      "HASH_JOIN 0.590147\n",
      "8615708 HASH_JOIN 0.622749\n",
      "0 SEQ_SCAN 0.0\n",
      "HASH_JOIN 0.622749\n",
      "8615708 SEQ_SCAN 0.071491\n",
      "184000 SEQ_SCAN 0.000277\n",
      "HASH_JOIN 0.682735\n",
      "8615708 SEQ_SCAN 0.036916\n",
      "184000 SEQ_SCAN 0.000272\n"
     ]
    }
   ],
   "source": [
    "def traverse_children(child):\n",
    "    for child_ in child:\n",
    "        #\n",
    "        if (child_['name'] == 'HASH_JOIN'):\n",
    "            print(child_['name'], child_['timing'])\n",
    "            for child__ in child_['children']:\n",
    "                print(child__['cardinality'], child__['name'], child__['timing'])\n",
    "        # if (child_['name'] == \"SEQ_SCAN\"):\n",
    "        #     print(child_['cardinality'], end='\\t')\n",
    "\n",
    "\n",
    "        traverse_children(child_['children'])\n",
    "    return\n",
    "\n",
    "\n",
    "query_child = query_output['children']\n",
    "traverse_children(query_child)\n"
   ],
   "metadata": {
    "collapsed": false,
    "pycharm": {
     "name": "#%%\n"
    }
   }
  },
  {
   "cell_type": "code",
   "execution_count": null,
   "outputs": [],
   "source": [],
   "metadata": {
    "collapsed": false,
    "pycharm": {
     "name": "#%%\n"
    }
   }
  }
 ],
 "metadata": {
  "kernelspec": {
   "display_name": "Python 3",
   "language": "python",
   "name": "python3"
  },
  "language_info": {
   "codemirror_mode": {
    "name": "ipython",
    "version": 2
   },
   "file_extension": ".py",
   "mimetype": "text/x-python",
   "name": "python",
   "nbconvert_exporter": "python",
   "pygments_lexer": "ipython2",
   "version": "2.7.6"
  }
 },
 "nbformat": 4,
 "nbformat_minor": 0
}